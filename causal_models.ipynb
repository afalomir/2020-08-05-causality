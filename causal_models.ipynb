{
 "cells": [
  {
   "cell_type": "code",
   "execution_count": 1,
   "metadata": {},
   "outputs": [
    {
     "name": "stderr",
     "output_type": "stream",
     "text": [
      "── \u001b[1mAttaching packages\u001b[22m ─────────────────────────────────────── tidyverse 1.2.1 ──\n",
      "\u001b[32m✔\u001b[39m \u001b[34mggplot2\u001b[39m 3.2.1     \u001b[32m✔\u001b[39m \u001b[34mpurrr  \u001b[39m 0.3.2\n",
      "\u001b[32m✔\u001b[39m \u001b[34mtibble \u001b[39m 2.1.3     \u001b[32m✔\u001b[39m \u001b[34mdplyr  \u001b[39m 0.8.3\n",
      "\u001b[32m✔\u001b[39m \u001b[34mtidyr  \u001b[39m 1.0.2     \u001b[32m✔\u001b[39m \u001b[34mstringr\u001b[39m 1.4.0\n",
      "\u001b[32m✔\u001b[39m \u001b[34mreadr  \u001b[39m 1.3.1     \u001b[32m✔\u001b[39m \u001b[34mforcats\u001b[39m 0.4.0\n",
      "── \u001b[1mConflicts\u001b[22m ────────────────────────────────────────── tidyverse_conflicts() ──\n",
      "\u001b[31m✖\u001b[39m \u001b[34mdplyr\u001b[39m::\u001b[32mfilter()\u001b[39m masks \u001b[34mstats\u001b[39m::filter()\n",
      "\u001b[31m✖\u001b[39m \u001b[34mdplyr\u001b[39m::\u001b[32mlag()\u001b[39m    masks \u001b[34mstats\u001b[39m::lag()\n",
      "here() starts at /home/arinbasu/hlth_403\n",
      "This is lavaan 0.6-5\n",
      "lavaan is BETA software! Please report any bugs.\n"
     ]
    }
   ],
   "source": [
    "library(tidyverse)\n",
    "#library(Hmisc)\n",
    "library(boot)\n",
    "library(here)\n",
    "library(geepack)\n",
    "library(readxl)\n",
    "library(haven)\n",
    "library(lavaan)"
   ]
  },
  {
   "cell_type": "code",
   "execution_count": 21,
   "metadata": {},
   "outputs": [
    {
     "name": "stderr",
     "output_type": "stream",
     "text": [
      "This is lavaan 0.6-5\n",
      "lavaan is BETA software! Please report any bugs.\n"
     ]
    }
   ],
   "source": [
    "#library(remotes)\n",
    "#install.packages(\"dagitty\")\n",
    "library(lavaan)"
   ]
  },
  {
   "cell_type": "markdown",
   "metadata": {},
   "source": [
    "## Purpose and overview\n",
    "The goal of this paper is to write about how to assess causal inference using directed acyclic graphs and counterfactual theories of causation. In epidemiology and health sciences, if X is a cause of Y, then:\n",
    "\n",
    "- We must first show that X is statistically significantly associated with Y and meets the criteria of internal validity\n",
    "- We must demonstrate that X and Y association is NOT one of chance alone\n",
    "- We must demonstrate that X and Y association cannot be explained by biases - selection bias, response bias, measurement bias\n",
    "- We must demonstrate that X and Y association cannot be explained by confounding variables\n",
    "\n",
    "After we have done these, we can assess the \"weight\" of evidence that X and Y are causally related by considering the nine criteria that Sir Austin Bradford Hill proposed (He called them \"considerations\" rather than criteria). The three main criteria are:\n",
    "\n",
    "- Strength of association\n",
    "- Temporality (cause must always precede effect)\n",
    "- Dose-response gradient (or biological gradient)\n",
    "\n",
    "## Causal inference based on DAGs\n",
    "- DAGs are directed acyclic graphs\n",
    "- Derives from path tracing rules of Sewall Wright\n",
    "- If X and Y are connected using a system of paths that traverse between the two, then:\n",
    "- We can start a path in any direction and move along that same direction traversing the network till we reach Y\n",
    "- The path can contain only ONE covariance path (double edged path)\n",
    "- The path can pass through one variable only once\n",
    "- If there are n valid paths connecting X and Y such that each path i has coefficient of p_i, then:\n",
    "- Covariance(X,Y) = p_1 * p_2 * .... * p_n or\n",
    "- Covariance(X, Y) = $\\Pi$p_i\n",
    "\n",
    "## Where DAGs in a causal diagram differs from Sewall Wright's Path\n",
    "- There are no two way arrows \n",
    "- Arrows flow only in one direction\n",
    "- The parent and child nodes are dependent otherwise the nodes are independent\n",
    "- All nodes must be present in the graph and paths specified\n",
    "\n",
    "## Three kinds of paths\n",
    "- All backdoor paths must remain closed\n",
    "- Backdoor paths are open if they have confounding variables in them (measured or unmeasured)\n",
    "- Backdoor paths are open if they have colliders in them that are conditioned on or controlled for\n",
    "- So, condition confounding variables in open backdoor paths, but do not condition on colliders in closed backdoor paths\n",
    "- Colliders are those where two arrows converge, e.g.,A -> B <- C\n",
    "- Typically, in epidemiology for instance, colliders are those where an exposure or an intervention and an outcome share the same variables\n",
    "\n",
    "## Mediators, Confounders, and colliders\n",
    "- A -> M -> Y (A is the exposure or the intervention, Y is the outcome)\n",
    "- M is  a mediator as it mediates the connection between A and Y\n",
    "- L -> A; L -> Y; A -> Y; here L is a confounder\n",
    "- A -> C <- Y ; here C is a collider\n",
    "- Judea Pearl has named \"Chains\", \"Forks\", and \"colliders\"\n",
    "\n",
    "\n",
    "## What happens?\n",
    "- Confounding variables must be controlled for\n",
    "- Controlling on colliders lead to selection bias\n",
    "\n",
    "## Counterfactual theory\n",
    "- A causes Y \n",
    "- Imagine A is binary, and can take 2 values 1, and 0\n",
    "- Imagine Y is binary, takes 2 values 1, and 0\n",
    "\n",
    "## Counterfactuals\n",
    "- We will state any value \"a\" as a counterfactual to a value of A, if:\n",
    "- Say we OBSERVE Y = 1 when A = 1\n",
    "- What if A were to be 0, what would be the value of Y?\n",
    "- \"What if A were to be 0 now that A = 1\" is A's counterfactual \"a\"\n",
    "- Here, the corresponding value of Y under A's counterfactual is Y(a=0)\n",
    "\n",
    "## Definition of causality\n",
    "- P(Y = 1 | A = 1) is the likelihood of Y = 1 GIVEN A = 1\n",
    "- P(Y = 1 | A = 0) is the likelihood of Y = 1 GIVEN A = 0 or controlled condition or condition under comparison\n",
    "- Then Association Risk Ratio = P(Y = 1 | A = 1) / P(Y = 1 | A = 0)\n",
    "- The causal risk ratio = P(Y(a = 1) = 1 / P(Y(a = 0) = 1)\n",
    "- If the causal risk ratio == association risk ratio, then:\n",
    "- Association is Causation, not otherwise.\n",
    "\n",
    "## How do we find the counterfactuality?\n",
    "- We weight the individuals with contrasting conditions\n",
    "- We assess their associations\n",
    "- Three types of weights: \n",
    "- Inverse probability weights\n",
    "- Standardised weights\n",
    "- Weights using instrumental variables\n",
    "\n",
    "## Codes are given below\n",
    "Use [NHEFS data](https://wwwn.cdc.gov/nchs/nhanes/nhefs/Default.aspx)"
   ]
  },
  {
   "cell_type": "code",
   "execution_count": 10,
   "metadata": {},
   "outputs": [
    {
     "data": {
      "text/html": [
       "146.25"
      ],
      "text/latex": [
       "146.25"
      ],
      "text/markdown": [
       "146.25"
      ],
      "text/plain": [
       "[1] 146.25"
      ]
     },
     "metadata": {},
     "output_type": "display_data"
    }
   ],
   "source": [
    "67.5 + 78.75"
   ]
  },
  {
   "cell_type": "code",
   "execution_count": 2,
   "metadata": {},
   "outputs": [],
   "source": [
    "library(here)"
   ]
  },
  {
   "cell_type": "code",
   "execution_count": 3,
   "metadata": {},
   "outputs": [],
   "source": [
    "#install.packages(\"here\")"
   ]
  },
  {
   "cell_type": "code",
   "execution_count": 10,
   "metadata": {},
   "outputs": [],
   "source": [
    "library(here)\n",
    "library(readxl)\n",
    "library(haven)"
   ]
  },
  {
   "cell_type": "code",
   "execution_count": 11,
   "metadata": {},
   "outputs": [],
   "source": [
    "# We will use the NHEFS data to study\n",
    "# whether smoking cessation leads to or causes weight gain\n",
    "\n",
    "nhefs <- read_excel(here(\"NHEFS.xls\"))\n",
    "nhefs$cens <- ifelse(is.na(nhefs$wt82), 1, 0)"
   ]
  },
  {
   "cell_type": "code",
   "execution_count": 27,
   "metadata": {},
   "outputs": [
    {
     "data": {
      "text/html": [
       "<table>\n",
       "<caption>A tibble: 6 × 65</caption>\n",
       "<thead>\n",
       "\t<tr><th scope=col>seqn</th><th scope=col>qsmk</th><th scope=col>death</th><th scope=col>yrdth</th><th scope=col>modth</th><th scope=col>dadth</th><th scope=col>sbp</th><th scope=col>dbp</th><th scope=col>sex</th><th scope=col>age</th><th scope=col>⋯</th><th scope=col>pregnancies</th><th scope=col>cholesterol</th><th scope=col>hightax82</th><th scope=col>price71</th><th scope=col>price82</th><th scope=col>tax71</th><th scope=col>tax82</th><th scope=col>price71_82</th><th scope=col>tax71_82</th><th scope=col>cens</th></tr>\n",
       "\t<tr><th scope=col>&lt;dbl&gt;</th><th scope=col>&lt;dbl&gt;</th><th scope=col>&lt;dbl&gt;</th><th scope=col>&lt;dbl&gt;</th><th scope=col>&lt;dbl&gt;</th><th scope=col>&lt;dbl&gt;</th><th scope=col>&lt;dbl&gt;</th><th scope=col>&lt;dbl&gt;</th><th scope=col>&lt;dbl&gt;</th><th scope=col>&lt;dbl&gt;</th><th scope=col>⋯</th><th scope=col>&lt;dbl&gt;</th><th scope=col>&lt;dbl&gt;</th><th scope=col>&lt;dbl&gt;</th><th scope=col>&lt;dbl&gt;</th><th scope=col>&lt;dbl&gt;</th><th scope=col>&lt;dbl&gt;</th><th scope=col>&lt;dbl&gt;</th><th scope=col>&lt;dbl&gt;</th><th scope=col>&lt;dbl&gt;</th><th scope=col>&lt;dbl&gt;</th></tr>\n",
       "</thead>\n",
       "<tbody>\n",
       "\t<tr><td>233</td><td>0</td><td>0</td><td>NA</td><td>NA</td><td>NA</td><td>175</td><td>96</td><td>0</td><td>42</td><td>⋯</td><td>NA</td><td>197</td><td>0</td><td>2.183594</td><td>1.739990</td><td>1.1022949</td><td>0.4619751</td><td>0.44378662</td><td>0.6403809</td><td>0</td></tr>\n",
       "\t<tr><td>235</td><td>0</td><td>0</td><td>NA</td><td>NA</td><td>NA</td><td>123</td><td>80</td><td>0</td><td>36</td><td>⋯</td><td>NA</td><td>301</td><td>0</td><td>2.346680</td><td>1.797363</td><td>1.3649902</td><td>0.5718994</td><td>0.54931641</td><td>0.7929688</td><td>0</td></tr>\n",
       "\t<tr><td>244</td><td>0</td><td>0</td><td>NA</td><td>NA</td><td>NA</td><td>115</td><td>75</td><td>1</td><td>56</td><td>⋯</td><td> 2</td><td>157</td><td>0</td><td>1.569580</td><td>1.513428</td><td>0.5512695</td><td>0.2309875</td><td>0.05619812</td><td>0.3202515</td><td>0</td></tr>\n",
       "\t<tr><td>245</td><td>0</td><td>1</td><td>85</td><td> 2</td><td>14</td><td>148</td><td>78</td><td>0</td><td>68</td><td>⋯</td><td>NA</td><td>174</td><td>0</td><td>1.506592</td><td>1.451904</td><td>0.5249023</td><td>0.2199707</td><td>0.05479431</td><td>0.3049927</td><td>0</td></tr>\n",
       "\t<tr><td>252</td><td>0</td><td>0</td><td>NA</td><td>NA</td><td>NA</td><td>118</td><td>77</td><td>0</td><td>40</td><td>⋯</td><td>NA</td><td>216</td><td>0</td><td>2.346680</td><td>1.797363</td><td>1.3649902</td><td>0.5718994</td><td>0.54931641</td><td>0.7929688</td><td>0</td></tr>\n",
       "\t<tr><td>257</td><td>0</td><td>0</td><td>NA</td><td>NA</td><td>NA</td><td>141</td><td>83</td><td>1</td><td>43</td><td>⋯</td><td> 1</td><td>212</td><td>1</td><td>2.209961</td><td>2.025879</td><td>1.1547852</td><td>0.7479248</td><td>0.18408203</td><td>0.4069824</td><td>0</td></tr>\n",
       "</tbody>\n",
       "</table>\n"
      ],
      "text/latex": [
       "A tibble: 6 × 65\n",
       "\\begin{tabular}{r|lllllllllllllllllllllllllllllllllllllllllllllllllllllllllllllllll}\n",
       " seqn & qsmk & death & yrdth & modth & dadth & sbp & dbp & sex & age & race & income & marital & school & education & ht & wt71 & wt82 & wt82\\_71 & birthplace & smokeintensity & smkintensity82\\_71 & smokeyrs & asthma & bronch & tb & hf & hbp & pepticulcer & colitis & hepatitis & chroniccough & hayfever & diabetes & polio & tumor & nervousbreak & alcoholpy & alcoholfreq & alcoholtype & alcoholhowmuch & pica & headache & otherpain & weakheart & allergies & nerves & lackpep & hbpmed & boweltrouble & wtloss & infection & active & exercise & birthcontrol & pregnancies & cholesterol & hightax82 & price71 & price82 & tax71 & tax82 & price71\\_82 & tax71\\_82 & cens\\\\\n",
       " <dbl> & <dbl> & <dbl> & <dbl> & <dbl> & <dbl> & <dbl> & <dbl> & <dbl> & <dbl> & <dbl> & <dbl> & <dbl> & <dbl> & <dbl> & <dbl> & <dbl> & <dbl> & <dbl> & <dbl> & <dbl> & <dbl> & <dbl> & <dbl> & <dbl> & <dbl> & <dbl> & <dbl> & <dbl> & <dbl> & <dbl> & <dbl> & <dbl> & <dbl> & <dbl> & <dbl> & <dbl> & <dbl> & <dbl> & <dbl> & <dbl> & <dbl> & <dbl> & <dbl> & <dbl> & <dbl> & <dbl> & <dbl> & <dbl> & <dbl> & <dbl> & <dbl> & <dbl> & <dbl> & <dbl> & <dbl> & <dbl> & <dbl> & <dbl> & <dbl> & <dbl> & <dbl> & <dbl> & <dbl> & <dbl>\\\\\n",
       "\\hline\n",
       "\t 233 & 0 & 0 & NA & NA & NA & 175 & 96 & 0 & 42 & 1 & 19 & 2 &  7 & 1 & 174.1875 & 79.04 &  68.94604 & -10.093960 & 47 & 30 & -10 & 29 & 0 & 0 & 0 & 0 & 1 & 1 & 0 & 0 & 0 & 0 & 1 & 0 & 0 & 0 & 1 & 1 & 3 &  7 & 0 & 1 & 0 & 0 & 0 & 0 & 0 & 1 & 0 & 0 & 0 & 0 & 2 & 2 & NA & 197 & 0 & 2.183594 & 1.739990 & 1.1022949 & 0.4619751 & 0.44378662 & 0.6403809 & 0\\\\\n",
       "\t 235 & 0 & 0 & NA & NA & NA & 123 & 80 & 0 & 36 & 0 & 18 & 2 &  9 & 2 & 159.3750 & 58.63 &  61.23497 &   2.604970 & 42 & 20 & -10 & 24 & 0 & 0 & 0 & 0 & 0 & 0 & 0 & 0 & 0 & 0 & 0 & 0 & 0 & 0 & 1 & 0 & 1 &  4 & 0 & 1 & 0 & 0 & 0 & 0 & 0 & 0 & 0 & 0 & 1 & 0 & 0 & 2 & NA & 301 & 0 & 2.346680 & 1.797363 & 1.3649902 & 0.5718994 & 0.54931641 & 0.7929688 & 0\\\\\n",
       "\t 244 & 0 & 0 & NA & NA & NA & 115 & 75 & 1 & 56 & 1 & 15 & 3 & 11 & 2 & 168.5000 & 56.81 &  66.22449 &   9.414486 & 51 & 20 & -14 & 26 & 0 & 0 & 0 & 0 & 0 & 0 & 0 & 0 & 0 & 1 & 0 & 0 & 1 & 0 & 1 & 3 & 4 & NA & 0 & 1 & 1 & 0 & 0 & 1 & 0 & 0 & 0 & 0 & 0 & 0 & 2 & 0 &  2 & 157 & 0 & 1.569580 & 1.513428 & 0.5512695 & 0.2309875 & 0.05619812 & 0.3202515 & 0\\\\\n",
       "\t 245 & 0 & 1 & 85 &  2 & 14 & 148 & 78 & 0 & 68 & 1 & 15 & 3 &  5 & 1 & 170.1875 & 59.42 &  64.41012 &   4.990117 & 37 &  3 &   4 & 53 & 0 & 0 & 0 & 0 & 1 & 0 & 0 & 0 & 0 & 0 & 0 & 0 & 0 & 0 & 1 & 2 & 3 &  4 & 0 & 0 & 1 & 1 & 0 & 0 & 0 & 0 & 0 & 0 & 0 & 1 & 2 & 2 & NA & 174 & 0 & 1.506592 & 1.451904 & 0.5249023 & 0.2199707 & 0.05479431 & 0.3049927 & 0\\\\\n",
       "\t 252 & 0 & 0 & NA & NA & NA & 118 & 77 & 0 & 40 & 0 & 18 & 2 & 11 & 2 & 181.8750 & 87.09 &  92.07925 &   4.989251 & 42 & 20 &   0 & 19 & 0 & 0 & 0 & 0 & 0 & 0 & 0 & 0 & 0 & 0 & 0 & 0 & 0 & 0 & 1 & 2 & 1 &  2 & 0 & 1 & 0 & 0 & 0 & 0 & 0 & 0 & 1 & 0 & 0 & 1 & 1 & 2 & NA & 216 & 0 & 2.346680 & 1.797363 & 1.3649902 & 0.5718994 & 0.54931641 & 0.7929688 & 0\\\\\n",
       "\t 257 & 0 & 0 & NA & NA & NA & 141 & 83 & 1 & 43 & 1 & 11 & 4 &  9 & 2 & 162.1875 & 99.00 & 103.41906 &   4.419060 & 34 & 10 &  10 & 21 & 0 & 0 & 0 & 0 & 0 & 0 & 0 & 0 & 0 & 0 & 0 & 0 & 0 & 0 & 1 & 3 & 2 &  1 & 0 & 1 & 0 & 0 & 0 & 0 & 0 & 0 & 0 & 0 & 0 & 1 & 1 & 0 &  1 & 212 & 1 & 2.209961 & 2.025879 & 1.1547852 & 0.7479248 & 0.18408203 & 0.4069824 & 0\\\\\n",
       "\\end{tabular}\n"
      ],
      "text/markdown": [
       "\n",
       "A tibble: 6 × 65\n",
       "\n",
       "| seqn &lt;dbl&gt; | qsmk &lt;dbl&gt; | death &lt;dbl&gt; | yrdth &lt;dbl&gt; | modth &lt;dbl&gt; | dadth &lt;dbl&gt; | sbp &lt;dbl&gt; | dbp &lt;dbl&gt; | sex &lt;dbl&gt; | age &lt;dbl&gt; | ⋯ ⋯ | pregnancies &lt;dbl&gt; | cholesterol &lt;dbl&gt; | hightax82 &lt;dbl&gt; | price71 &lt;dbl&gt; | price82 &lt;dbl&gt; | tax71 &lt;dbl&gt; | tax82 &lt;dbl&gt; | price71_82 &lt;dbl&gt; | tax71_82 &lt;dbl&gt; | cens &lt;dbl&gt; |\n",
       "|---|---|---|---|---|---|---|---|---|---|---|---|---|---|---|---|---|---|---|---|---|\n",
       "| 233 | 0 | 0 | NA | NA | NA | 175 | 96 | 0 | 42 | ⋯ | NA | 197 | 0 | 2.183594 | 1.739990 | 1.1022949 | 0.4619751 | 0.44378662 | 0.6403809 | 0 |\n",
       "| 235 | 0 | 0 | NA | NA | NA | 123 | 80 | 0 | 36 | ⋯ | NA | 301 | 0 | 2.346680 | 1.797363 | 1.3649902 | 0.5718994 | 0.54931641 | 0.7929688 | 0 |\n",
       "| 244 | 0 | 0 | NA | NA | NA | 115 | 75 | 1 | 56 | ⋯ |  2 | 157 | 0 | 1.569580 | 1.513428 | 0.5512695 | 0.2309875 | 0.05619812 | 0.3202515 | 0 |\n",
       "| 245 | 0 | 1 | 85 |  2 | 14 | 148 | 78 | 0 | 68 | ⋯ | NA | 174 | 0 | 1.506592 | 1.451904 | 0.5249023 | 0.2199707 | 0.05479431 | 0.3049927 | 0 |\n",
       "| 252 | 0 | 0 | NA | NA | NA | 118 | 77 | 0 | 40 | ⋯ | NA | 216 | 0 | 2.346680 | 1.797363 | 1.3649902 | 0.5718994 | 0.54931641 | 0.7929688 | 0 |\n",
       "| 257 | 0 | 0 | NA | NA | NA | 141 | 83 | 1 | 43 | ⋯ |  1 | 212 | 1 | 2.209961 | 2.025879 | 1.1547852 | 0.7479248 | 0.18408203 | 0.4069824 | 0 |\n",
       "\n"
      ],
      "text/plain": [
       "  seqn qsmk death yrdth modth dadth sbp dbp sex age ⋯ pregnancies cholesterol\n",
       "1 233  0    0     NA    NA    NA    175 96  0   42  ⋯ NA          197        \n",
       "2 235  0    0     NA    NA    NA    123 80  0   36  ⋯ NA          301        \n",
       "3 244  0    0     NA    NA    NA    115 75  1   56  ⋯  2          157        \n",
       "4 245  0    1     85     2    14    148 78  0   68  ⋯ NA          174        \n",
       "5 252  0    0     NA    NA    NA    118 77  0   40  ⋯ NA          216        \n",
       "6 257  0    0     NA    NA    NA    141 83  1   43  ⋯  1          212        \n",
       "  hightax82 price71  price82  tax71     tax82     price71_82 tax71_82  cens\n",
       "1 0         2.183594 1.739990 1.1022949 0.4619751 0.44378662 0.6403809 0   \n",
       "2 0         2.346680 1.797363 1.3649902 0.5718994 0.54931641 0.7929688 0   \n",
       "3 0         1.569580 1.513428 0.5512695 0.2309875 0.05619812 0.3202515 0   \n",
       "4 0         1.506592 1.451904 0.5249023 0.2199707 0.05479431 0.3049927 0   \n",
       "5 0         2.346680 1.797363 1.3649902 0.5718994 0.54931641 0.7929688 0   \n",
       "6 1         2.209961 2.025879 1.1547852 0.7479248 0.18408203 0.4069824 0   "
      ]
     },
     "metadata": {},
     "output_type": "display_data"
    }
   ],
   "source": [
    "nhefs %>% head() # what the data looks like"
   ]
  },
  {
   "cell_type": "code",
   "execution_count": 13,
   "metadata": {},
   "outputs": [],
   "source": [
    "# remove missing values from NHEFS\n",
    "nhefs.nmv <-\n",
    "  nhefs[which(!is.na(nhefs$wt82)),] \n"
   ]
  },
  {
   "cell_type": "code",
   "execution_count": 14,
   "metadata": {},
   "outputs": [
    {
     "data": {
      "text/plain": [
       "\n",
       "Call:\n",
       "lm(formula = wt82_71 ~ qsmk, data = nhefs.nmv)\n",
       "\n",
       "Coefficients:\n",
       "(Intercept)         qsmk  \n",
       "      1.984        2.541  \n"
      ]
     },
     "metadata": {},
     "output_type": "display_data"
    }
   ],
   "source": [
    "# regress weight change on quitting smoking status, \n",
    "lm(wt82_71 ~ qsmk, data = nhefs.nmv)"
   ]
  },
  {
   "cell_type": "code",
   "execution_count": 49,
   "metadata": {},
   "outputs": [
    {
     "data": {
      "text/html": [
       "<table>\n",
       "<caption>A tibble: 2 × 3</caption>\n",
       "<thead>\n",
       "\t<tr><th scope=col>qsmk</th><th scope=col>n</th><th scope=col>age_yrs</th></tr>\n",
       "\t<tr><th scope=col>&lt;dbl&gt;</th><th scope=col>&lt;int&gt;</th><th scope=col>&lt;dbl&gt;</th></tr>\n",
       "</thead>\n",
       "<tbody>\n",
       "\t<tr><td>0</td><td>1163</td><td>42.78848</td></tr>\n",
       "\t<tr><td>1</td><td> 403</td><td>46.17370</td></tr>\n",
       "</tbody>\n",
       "</table>\n"
      ],
      "text/latex": [
       "A tibble: 2 × 3\n",
       "\\begin{tabular}{r|lll}\n",
       " qsmk & n & age\\_yrs\\\\\n",
       " <dbl> & <int> & <dbl>\\\\\n",
       "\\hline\n",
       "\t 0 & 1163 & 42.78848\\\\\n",
       "\t 1 &  403 & 46.17370\\\\\n",
       "\\end{tabular}\n"
      ],
      "text/markdown": [
       "\n",
       "A tibble: 2 × 3\n",
       "\n",
       "| qsmk &lt;dbl&gt; | n &lt;int&gt; | age_yrs &lt;dbl&gt; |\n",
       "|---|---|---|\n",
       "| 0 | 1163 | 42.78848 |\n",
       "| 1 |  403 | 46.17370 |\n",
       "\n"
      ],
      "text/plain": [
       "  qsmk n    age_yrs \n",
       "1 0    1163 42.78848\n",
       "2 1     403 46.17370"
      ]
     },
     "metadata": {},
     "output_type": "display_data"
    },
    {
     "data": {
      "text/html": [
       "<ol class=list-inline>\n",
       "\t<li>0.49048496009822</li>\n",
       "\t<li>0.50951503990178</li>\n",
       "</ol>\n"
      ],
      "text/latex": [
       "\\begin{enumerate*}\n",
       "\\item 0.49048496009822\n",
       "\\item 0.50951503990178\n",
       "\\end{enumerate*}\n"
      ],
      "text/markdown": [
       "1. 0.49048496009822\n",
       "2. 0.50951503990178\n",
       "\n",
       "\n"
      ],
      "text/plain": [
       "[1] 0.490485 0.509515"
      ]
     },
     "metadata": {},
     "output_type": "display_data"
    }
   ],
   "source": [
    "# qsmk = quitters (0 = did not quit, 1 = quit)\n",
    "smokers <- nhefs.nmv %>%\n",
    " group_by(qsmk) %>%\n",
    " summarise(n = n(),\n",
    "          age_yrs = mean(age))\n",
    "gender <- nhefs %>%\n",
    " count(sex)\n",
    "smokers\n",
    "gender$n / sum(gender$n)"
   ]
  },
  {
   "cell_type": "code",
   "execution_count": 15,
   "metadata": {},
   "outputs": [
    {
     "data": {
      "text/plain": [
       "\n",
       "Call:\n",
       "glm(formula = qsmk ~ sex + race + age + I(age^2) + as.factor(education) + \n",
       "    smokeintensity + I(smokeintensity^2) + smokeyrs + I(smokeyrs^2) + \n",
       "    as.factor(exercise) + as.factor(active) + wt71 + I(wt71^2), \n",
       "    family = binomial(), data = nhefs.nmv)\n",
       "\n",
       "Deviance Residuals: \n",
       "    Min       1Q   Median       3Q      Max  \n",
       "-1.5127  -0.7907  -0.6387   0.9832   2.3729  \n",
       "\n",
       "Coefficients:\n",
       "                        Estimate Std. Error z value Pr(>|z|)    \n",
       "(Intercept)           -2.2425191  1.3808360  -1.624 0.104369    \n",
       "sex                   -0.5274782  0.1540496  -3.424 0.000617 ***\n",
       "race                  -0.8392636  0.2100665  -3.995 6.46e-05 ***\n",
       "age                    0.1212052  0.0512663   2.364 0.018068 *  \n",
       "I(age^2)              -0.0008246  0.0005361  -1.538 0.124039    \n",
       "as.factor(education)2 -0.0287755  0.1983506  -0.145 0.884653    \n",
       "as.factor(education)3  0.0864318  0.1780850   0.485 0.627435    \n",
       "as.factor(education)4  0.0636010  0.2732108   0.233 0.815924    \n",
       "as.factor(education)5  0.4759606  0.2262237   2.104 0.035384 *  \n",
       "smokeintensity        -0.0772704  0.0152499  -5.067 4.04e-07 ***\n",
       "I(smokeintensity^2)    0.0010451  0.0002866   3.647 0.000265 ***\n",
       "smokeyrs              -0.0735966  0.0277775  -2.650 0.008061 ** \n",
       "I(smokeyrs^2)          0.0008441  0.0004632   1.822 0.068398 .  \n",
       "as.factor(exercise)1   0.3548405  0.1801351   1.970 0.048855 *  \n",
       "as.factor(exercise)2   0.3957040  0.1872400   2.113 0.034571 *  \n",
       "as.factor(active)1     0.0319445  0.1329372   0.240 0.810100    \n",
       "as.factor(active)2     0.1767840  0.2149720   0.822 0.410873    \n",
       "wt71                  -0.0152357  0.0263161  -0.579 0.562625    \n",
       "I(wt71^2)              0.0001352  0.0001632   0.829 0.407370    \n",
       "---\n",
       "Signif. codes:  0 ‘***’ 0.001 ‘**’ 0.01 ‘*’ 0.05 ‘.’ 0.1 ‘ ’ 1\n",
       "\n",
       "(Dispersion parameter for binomial family taken to be 1)\n",
       "\n",
       "    Null deviance: 1786.1  on 1565  degrees of freedom\n",
       "Residual deviance: 1676.9  on 1547  degrees of freedom\n",
       "AIC: 1714.9\n",
       "\n",
       "Number of Fisher Scoring iterations: 4\n"
      ]
     },
     "metadata": {},
     "output_type": "display_data"
    }
   ],
   "source": [
    "# fitting the ip weight\n",
    "# they fit a logistic regression on the exposure variable/intervention variable\n",
    "# with all potential confounders\n",
    "fit <- glm(\n",
    "  qsmk ~ sex + race + age + I(age ^ 2) +\n",
    "    as.factor(education) + smokeintensity +\n",
    "    I(smokeintensity ^ 2) + smokeyrs + I(smokeyrs ^ 2) +\n",
    "    as.factor(exercise) + as.factor(active) + wt71 + I(wt71 ^ 2),\n",
    "  family = binomial(),\n",
    "  data = nhefs.nmv\n",
    ")\n",
    "summary(fit)"
   ]
  },
  {
   "cell_type": "code",
   "execution_count": 51,
   "metadata": {},
   "outputs": [
    {
     "name": "stderr",
     "output_type": "stream",
     "text": [
      "Installing package into ‘/home/arinbasu/R/x86_64-conda_cos6-linux-gnu-library/3.5’\n",
      "(as ‘lib’ is unspecified)\n"
     ]
    }
   ],
   "source": [
    "#install.packages(\"geepack\")"
   ]
  },
  {
   "cell_type": "code",
   "execution_count": 16,
   "metadata": {},
   "outputs": [
    {
     "data": {
      "text/plain": [
       "   Min. 1st Qu.  Median    Mean 3rd Qu.    Max. \n",
       "  1.054   1.230   1.373   1.996   1.990  16.700 "
      ]
     },
     "metadata": {},
     "output_type": "display_data"
    }
   ],
   "source": [
    "# We are creating the simple weights here\n",
    "# What is the probability of observation that other variables predict quitting\n",
    "p.qsmk.obs <-\n",
    "  ifelse(nhefs.nmv$qsmk == 0,\n",
    "         1 - predict(fit, type = \"response\"),\n",
    "         predict(fit, type = \"response\"))\n",
    "\n",
    "# we create a weight variable w by using inverse probability of the weights\n",
    "\n",
    "nhefs.nmv$w <- 1 / p.qsmk.obs\n",
    "summary(nhefs.nmv$w)"
   ]
  },
  {
   "cell_type": "code",
   "execution_count": 17,
   "metadata": {},
   "outputs": [
    {
     "data": {
      "text/plain": [
       "\n",
       "Call:\n",
       "geeglm(formula = wt82_71 ~ qsmk, data = nhefs.nmv, weights = w, \n",
       "    id = seqn, corstr = \"independence\")\n",
       "\n",
       " Coefficients:\n",
       "            Estimate Std.err  Wald Pr(>|W|)    \n",
       "(Intercept)   1.7800  0.2247 62.73 2.33e-15 ***\n",
       "qsmk          3.4405  0.5255 42.87 5.86e-11 ***\n",
       "---\n",
       "Signif. codes:  0 ‘***’ 0.001 ‘**’ 0.01 ‘*’ 0.05 ‘.’ 0.1 ‘ ’ 1\n",
       "\n",
       "Correlation structure = independence \n",
       "Estimated Scale Parameters:\n",
       "\n",
       "            Estimate Std.err\n",
       "(Intercept)    65.06   4.221\n",
       "Number of clusters:   1566  Maximum cluster size: 1 "
      ]
     },
     "metadata": {},
     "output_type": "display_data"
    }
   ],
   "source": [
    "# Now we regress using general estimating equation model\n",
    "# need \"geepack\" for this\n",
    "\n",
    "library(\"geepack\")\n",
    "msm.w <- geeglm(\n",
    "  wt82_71 ~ qsmk,\n",
    "  data = nhefs.nmv,\n",
    "  weights = w,\n",
    "  id = seqn,\n",
    "  corstr = \"independence\"\n",
    ")\n",
    "summary(msm.w)\n",
    "\n",
    "## this tells us that the true CAUSAL weight gain is something like 3.44 Kg on an average"
   ]
  },
  {
   "cell_type": "code",
   "execution_count": 54,
   "metadata": {},
   "outputs": [
    {
     "data": {
      "text/html": [
       "2.4012"
      ],
      "text/latex": [
       "2.4012"
      ],
      "text/markdown": [
       "2.4012"
      ],
      "text/plain": [
       "[1] 2.401"
      ]
     },
     "metadata": {},
     "output_type": "display_data"
    }
   ],
   "source": [
    "3.44 - (1.96 * 0.53)"
   ]
  },
  {
   "cell_type": "code",
   "execution_count": 55,
   "metadata": {},
   "outputs": [
    {
     "data": {
      "text/html": [
       "4.4788"
      ],
      "text/latex": [
       "4.4788"
      ],
      "text/markdown": [
       "4.4788"
      ],
      "text/plain": [
       "[1] 4.479"
      ]
     },
     "metadata": {},
     "output_type": "display_data"
    }
   ],
   "source": [
    "3.44 + (1.96 * 0.53)"
   ]
  },
  {
   "cell_type": "code",
   "execution_count": null,
   "metadata": {},
   "outputs": [],
   "source": [
    "# 2.41 - 4.48 the 95% CI"
   ]
  },
  {
   "cell_type": "code",
   "execution_count": 38,
   "metadata": {},
   "outputs": [
    {
     "data": {
      "text/plain": [
       "   \n",
       "       0    1\n",
       "  0   33    8\n",
       "  1 1065  370"
      ]
     },
     "metadata": {},
     "output_type": "display_data"
    }
   ],
   "source": [
    "## Instrumental variables\n",
    "# for simplicity, ignore subjects with missing outcome or missing instrument\n",
    "nhefs.iv <- nhefs[which(!is.na(nhefs$wt82) & !is.na(nhefs$price82)),]\n",
    "nhefs.iv$highprice <- ifelse(nhefs.iv$price82>=1.5, 1, 0)\n",
    "\n",
    "table(nhefs.iv$highprice, nhefs.iv$qsmk)"
   ]
  },
  {
   "cell_type": "code",
   "execution_count": 39,
   "metadata": {},
   "outputs": [
    {
     "data": {
      "text/plain": [
       "\n",
       "\tWelch Two Sample t-test\n",
       "\n",
       "data:  wt82_71 by highprice\n",
       "t = -0.1, df = 42, p-value = 0.9\n",
       "alternative hypothesis: true difference in means is not equal to 0\n",
       "95 percent confidence interval:\n",
       " -3.131  2.830\n",
       "sample estimates:\n",
       "mean in group 0 mean in group 1 \n",
       "          2.536           2.686 \n"
      ]
     },
     "metadata": {},
     "output_type": "display_data"
    }
   ],
   "source": [
    "t.test(wt82_71 ~ highprice, data=nhefs.iv)"
   ]
  },
  {
   "cell_type": "code",
   "execution_count": 42,
   "metadata": {},
   "outputs": [
    {
     "name": "stderr",
     "output_type": "stream",
     "text": [
      "Warning message in lav_data_full(data = data, group = group, cluster = cluster, :\n",
      "“lavaan WARNING: some observed variances are (at least) a factor 1000 times larger than others; use varTable(fit) to investigate”"
     ]
    },
    {
     "name": "stdout",
     "output_type": "stream",
     "text": [
      "lavaan 0.6-5 ended normally after 32 iterations\n",
      "\n",
      "  Estimator                                         ML\n",
      "  Optimization method                           NLMINB\n",
      "  Number of free parameters                          6\n",
      "                                                      \n",
      "  Number of observations                          1476\n",
      "                                                      \n",
      "Model Test User Model:\n",
      "                                                      \n",
      "  Test statistic                                 0.000\n",
      "  Degrees of freedom                                 0\n",
      "\n",
      "Parameter Estimates:\n",
      "\n",
      "  Information                                 Expected\n",
      "  Information saturated (h1) model          Structured\n",
      "  Standard errors                             Standard\n",
      "\n",
      "Regressions:\n",
      "                   Estimate  Std.Err  z-value  P(>|z|)\n",
      "  wt82_71 ~                                           \n",
      "    qsmk              2.666    0.468    5.695    0.000\n",
      "  qsmk ~                                              \n",
      "    highprice         0.063    0.069    0.907    0.364\n",
      "\n",
      "Covariances:\n",
      "                   Estimate  Std.Err  z-value  P(>|z|)\n",
      " .wt82_71 ~~                                          \n",
      "    highprice        -0.000    0.034   -0.014    0.989\n",
      "\n",
      "Variances:\n",
      "                   Estimate  Std.Err  z-value  P(>|z|)\n",
      "   .wt82_71          61.621    2.268   27.166    0.000\n",
      "   .qsmk              0.190    0.007   27.166    0.000\n",
      "    highprice         0.027    0.001   27.166    0.000\n",
      "\n"
     ]
    }
   ],
   "source": [
    "t2 <- '\n",
    "wt82_71 ~ qsmk\n",
    "qsmk ~ highprice\n",
    "wt82_71 ~~ highprice\n",
    "'\n",
    "\n",
    "res2 <- lavaan::sem(model = t2, data = nhefs.iv)\n",
    "summary(res2)"
   ]
  },
  {
   "cell_type": "code",
   "execution_count": null,
   "metadata": {},
   "outputs": [],
   "source": [
    "# model1 <- tsls(wt82_71 ~ qsmk, ~ highprice, data = nhefs.iv)"
   ]
  },
  {
   "cell_type": "code",
   "execution_count": 43,
   "metadata": {},
   "outputs": [
    {
     "name": "stdout",
     "output_type": "stream",
     "text": [
      "lavaan 0.6-5 ended normally after 29 iterations\n",
      "\n",
      "  Estimator                                         ML\n",
      "  Optimization method                           NLMINB\n",
      "  Number of free parameters                          4\n",
      "                                                      \n",
      "  Number of observations                          1476\n",
      "                                                      \n",
      "Model Test User Model:\n",
      "                                                      \n",
      "  Test statistic                                 0.000\n",
      "  Degrees of freedom                                 1\n",
      "  P-value (Chi-square)                           0.989\n",
      "\n",
      "Parameter Estimates:\n",
      "\n",
      "  Information                                 Expected\n",
      "  Information saturated (h1) model          Structured\n",
      "  Standard errors                             Standard\n",
      "\n",
      "Regressions:\n",
      "                   Estimate  Std.Err  z-value  P(>|z|)\n",
      "  wt82_71 ~                                           \n",
      "    qsmk              2.666    0.468    5.696    0.000\n",
      "  qsmk ~                                              \n",
      "    highprice         0.063    0.069    0.907    0.364\n",
      "\n",
      "Variances:\n",
      "                   Estimate  Std.Err  z-value  P(>|z|)\n",
      "   .wt82_71          61.621    2.268   27.166    0.000\n",
      "   .qsmk              0.190    0.007   27.166    0.000\n",
      "\n"
     ]
    }
   ],
   "source": [
    "t3 <- '\n",
    "wt82_71 ~ qsmk\n",
    "qsmk ~ highprice\n",
    "'\n",
    "\n",
    "res3 <- lavaan::sem(model = t3, data = nhefs.iv)\n",
    "summary(res3)"
   ]
  },
  {
   "cell_type": "code",
   "execution_count": null,
   "metadata": {},
   "outputs": [],
   "source": []
  }
 ],
 "metadata": {
  "kernelspec": {
   "display_name": "R",
   "language": "R",
   "name": "ir"
  },
  "language_info": {
   "codemirror_mode": "r",
   "file_extension": ".r",
   "mimetype": "text/x-r-source",
   "name": "R",
   "pygments_lexer": "r",
   "version": "3.5.1"
  }
 },
 "nbformat": 4,
 "nbformat_minor": 4
}
